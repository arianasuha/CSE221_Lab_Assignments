{
 "cells": [
  {
   "cell_type": "code",
   "execution_count": 2,
   "metadata": {},
   "outputs": [],
   "source": [
    "def sort(list1):\n",
    "    for i in range(len(list1) - 1):\n",
    "        if list1[i][1] == list1[i+1][1]:\n",
    "            for j in range(i + 1, len(list1)):\n",
    "                if list1[i][0] > list1[j][0]:\n",
    "                  list1[i], list1[j] = list1[j], list1[i]\n",
    "\n",
    "        elif list1[i][1] < list1[i+1][1]:\n",
    "           list1[i], list1[i+1] = list1[i+1], list1[i] \n",
    "    return list1\n"
   ]
  },
  {
   "cell_type": "code",
   "execution_count": 3,
   "metadata": {},
   "outputs": [],
   "source": [
    "with open(\"input3.txt\", \"r\") as file:\n",
    "    next(file)\n",
    "    input1 = []\n",
    "    input2 = []\n",
    "    list1 = []\n",
    "    list2 = []\n",
    "    ind1 = 0\n",
    "    ind2 = 0\n",
    "    line1 = next(file)\n",
    "    id1 = line1.strip().split()\n",
    "    line2 = next(file)\n",
    "    marks1 = line2.strip().split()\n",
    "    for i in id1:\n",
    "        list1.append((int(i),int(marks1[ind1])))\n",
    "        ind1 += 1\n",
    "    input1 = sort(list1)\n",
    "    next(file)\n",
    "    line3 = next(file)\n",
    "    id2 = line3.strip().split()\n",
    "    line4 = next(file)\n",
    "    marks2 = line4.strip().split()\n",
    "    for j in id2:\n",
    "        list2.append((int(j),int(marks2[ind2])))\n",
    "        ind2 += 1\n",
    "    input2 = sort(list2)\n",
    "    with open(\"output3.txt\", \"w\") as file2:\n",
    "        for k in input1:\n",
    "            id, nums = k[0], k[1]\n",
    "            file2.write(f\"ID: {str(id)} Mark: {str(nums)}\\n\")\n",
    "        file2.write(\"\\n\")\n",
    "        for l in input2:\n",
    "            id, nums = l[0], l[1]\n",
    "            file2.write(f\"ID: {str(id)} Mark: {str(nums)}\\n\")\n",
    "         \n",
    "         \n"
   ]
  }
 ],
 "metadata": {
  "kernelspec": {
   "display_name": "Python 3",
   "language": "python",
   "name": "python3"
  },
  "language_info": {
   "codemirror_mode": {
    "name": "ipython",
    "version": 3
   },
   "file_extension": ".py",
   "mimetype": "text/x-python",
   "name": "python",
   "nbconvert_exporter": "python",
   "pygments_lexer": "ipython3",
   "version": "3.10.6"
  }
 },
 "nbformat": 4,
 "nbformat_minor": 2
}
