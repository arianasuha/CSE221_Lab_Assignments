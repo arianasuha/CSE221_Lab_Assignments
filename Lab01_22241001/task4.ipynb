{
 "cells": [
  {
   "cell_type": "code",
   "execution_count": 1,
   "metadata": {},
   "outputs": [],
   "source": [
    "def bubbleSort(arr):\n",
    "    for iter1 in range(len(arr)-1):\n",
    "      for j in range(len(arr)-iter1-2):\n",
    "        if arr[j][0] > arr[j+1][0]:\n",
    "          arr[j], arr[j+1] = arr[j+1], arr[j]\n",
    "        elif arr[j][0] == arr[j+1][0] and len(arr[j]) == len(arr[j+1]) and arr[j][0][-1] == arr[j+1][0][-1]:\n",
    "          t1 = arr[j][-1]\n",
    "          t2 = arr[j+1][-1]\n",
    "          for k in range(len(t1)):\n",
    "            if t1[k] > t2[k]:\n",
    "               break\n",
    "            elif t1[k] < t2[k]:\n",
    "                arr[j], arr[j+1] = arr[j+1], arr[j]\n",
    "                break\n",
    "    \n",
    "    return arr"
   ]
  },
  {
   "cell_type": "code",
   "execution_count": 2,
   "metadata": {},
   "outputs": [],
   "source": [
    "with open(\"input4.txt\", \"r\") as file:\n",
    "    next(file)\n",
    "    arr = []\n",
    "    item = \"\"\n",
    "    for line in file:\n",
    "        item = line.strip().split()\n",
    "        arr.append(item)\n",
    "    input = bubbleSort(arr)\n",
    "    with open(\"output4.txt\", \"w\") as file2:\n",
    "        for items in input:\n",
    "            file2.write(\" \".join(items))\n",
    "            file2.write(\"\\n\")"
   ]
  }
 ],
 "metadata": {
  "kernelspec": {
   "display_name": "Python 3",
   "language": "python",
   "name": "python3"
  },
  "language_info": {
   "codemirror_mode": {
    "name": "ipython",
    "version": 3
   },
   "file_extension": ".py",
   "mimetype": "text/x-python",
   "name": "python",
   "nbconvert_exporter": "python",
   "pygments_lexer": "ipython3",
   "version": "3.10.6"
  }
 },
 "nbformat": 4,
 "nbformat_minor": 2
}
