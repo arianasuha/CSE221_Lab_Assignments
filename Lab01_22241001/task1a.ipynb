{
 "cells": [
  {
   "cell_type": "code",
   "execution_count": 2,
   "id": "222d14c4",
   "metadata": {},
   "outputs": [],
   "source": [
    "with open(\"input1a.txt\",\"r\") as file:\n",
    "    next(file)\n",
    "    with open(\"output1a.txt\",\"w\") as file2:\n",
    "        for line in file:\n",
    "            number = line.strip()\n",
    "            if int(line) % 2 == 0:\n",
    "                file2.write(f\"{number} is an EVEN number.\\n\")\n",
    "            else:\n",
    "                file2.write(f\"{number} is an ODD number.\\n\")\n",
    "                "
   ]
  },
  {
   "cell_type": "code",
   "execution_count": null,
   "id": "488093a7",
   "metadata": {},
   "outputs": [],
   "source": []
  }
 ],
 "metadata": {
  "kernelspec": {
   "display_name": "Python 3 (ipykernel)",
   "language": "python",
   "name": "python3"
  },
  "language_info": {
   "codemirror_mode": {
    "name": "ipython",
    "version": 3
   },
   "file_extension": ".py",
   "mimetype": "text/x-python",
   "name": "python",
   "nbconvert_exporter": "python",
   "pygments_lexer": "ipython3",
   "version": "3.10.6"
  }
 },
 "nbformat": 4,
 "nbformat_minor": 5
}
