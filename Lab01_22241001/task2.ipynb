{
 "cells": [
  {
   "cell_type": "code",
   "execution_count": 13,
   "metadata": {},
   "outputs": [],
   "source": [
    "def bubbleSort1(arr):\n",
    "    for i in range(len(arr) - 1):\n",
    "        for j in range(len(arr)- i - 1):\n",
    "            if arr[j] > arr[j+1]:\n",
    "                arr[j], arr[j+1] = arr[j+1], arr[j]\n",
    "\n",
    "    return arr"
   ]
  },
  {
   "cell_type": "code",
   "execution_count": 14,
   "metadata": {},
   "outputs": [],
   "source": [
    "def bubbleSort2(arr):\n",
    "    for i in range(len(arr) - 1):\n",
    "        if arr[i] > arr[i+1]:\n",
    "            arr[i], arr[i+1] = arr[i+1], arr[i]\n",
    "\n",
    "    return arr\n"
   ]
  },
  {
   "cell_type": "code",
   "execution_count": 18,
   "metadata": {},
   "outputs": [],
   "source": [
    "\n",
    "\n",
    "with open(\"input2.txt\", \"r\") as file:\n",
    "    input1 = []\n",
    "    input2 = []\n",
    "    \n",
    "    next(file)\n",
    "    line1 = next(file)\n",
    "    arr1 = []\n",
    "    item1 = line1.strip().split() #32415\n",
    "    for i in item1:\n",
    "        arr1.append(int(i))\n",
    "    input1 = bubbleSort1(arr1)\n",
    "    next(file)\n",
    "    line2 = next(file)\n",
    "    arr2 = []\n",
    "    item2 = line2.strip().split()\n",
    "    for j in item2:\n",
    "        arr2.append(int(j))\n",
    "    input2 = bubbleSort2(arr2)\n",
    "\n",
    "    with open(\"output2.txt\", \"w\") as file2: #32451\n",
    "        for k in input1:\n",
    "            file2.write(str(k) + \" \")\n",
    "        file2.write(\"\\n\")\n",
    "        for l in input2:\n",
    "            file2.write(str(l) + \" \")\n",
    "\n",
    "\n",
    "\n",
    "        \n",
    "\n"
   ]
  },
  {
   "cell_type": "code",
   "execution_count": null,
   "metadata": {},
   "outputs": [],
   "source": []
  }
 ],
 "metadata": {
  "kernelspec": {
   "display_name": "Python 3",
   "language": "python",
   "name": "python3"
  },
  "language_info": {
   "codemirror_mode": {
    "name": "ipython",
    "version": 3
   },
   "file_extension": ".py",
   "mimetype": "text/x-python",
   "name": "python",
   "nbconvert_exporter": "python",
   "pygments_lexer": "ipython3",
   "version": "3.10.6"
  }
 },
 "nbformat": 4,
 "nbformat_minor": 2
}
