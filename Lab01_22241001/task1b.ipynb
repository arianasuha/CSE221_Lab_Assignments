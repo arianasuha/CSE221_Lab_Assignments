{
 "cells": [
  {
   "cell_type": "code",
   "execution_count": 2,
   "id": "db3f5334",
   "metadata": {},
   "outputs": [],
   "source": [
    "with open(\"input1b.txt\",\"r\") as file:\n",
    "    next(file)\n",
    "    with open(\"output1b.txt\",\"w\") as file2:\n",
    "        for line in file:\n",
    "            number = line.strip().split()\n",
    "            num1 = int(number[1])\n",
    "            num2 = int(number[3])\n",
    "            if number[2] == \"+\":\n",
    "                result = num1 + num2\n",
    "            elif number[2] == \"-\":\n",
    "                result = num1 - num2\n",
    "            elif number[2] == \"/\":\n",
    "                result = num1 / num2\n",
    "            elif number[2] == \"*\":\n",
    "                result = num1 * num2\n",
    "            file2.write(f\"The result of {number[1]} {number[2]} {number[3]} is {result}\\n\")"
   ]
  },
  {
   "cell_type": "code",
   "execution_count": null,
   "id": "dae4a80d",
   "metadata": {},
   "outputs": [],
   "source": []
  }
 ],
 "metadata": {
  "kernelspec": {
   "display_name": "Python 3 (ipykernel)",
   "language": "python",
   "name": "python3"
  },
  "language_info": {
   "codemirror_mode": {
    "name": "ipython",
    "version": 3
   },
   "file_extension": ".py",
   "mimetype": "text/x-python",
   "name": "python",
   "nbconvert_exporter": "python",
   "pygments_lexer": "ipython3",
   "version": "3.10.6"
  }
 },
 "nbformat": 4,
 "nbformat_minor": 5
}
